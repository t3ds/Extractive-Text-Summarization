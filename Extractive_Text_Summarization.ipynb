{
  "nbformat": 4,
  "nbformat_minor": 0,
  "metadata": {
    "colab": {
      "name": "NLP-Mini-Project.ipynb",
      "provenance": [],
      "toc_visible": true
    },
    "kernelspec": {
      "name": "python3",
      "display_name": "Python 3"
    },
    "language_info": {
      "name": "python"
    }
  },
  "cells": [
    {
      "cell_type": "code",
      "metadata": {
        "colab": {
          "base_uri": "https://localhost:8080/"
        },
        "id": "rtgYrxhSD3im",
        "outputId": "e32bde32-634c-4f13-f26b-6c0a5ef9c271"
      },
      "source": [
        "###Run only if Colab or else install these seperately###\n",
        "\n",
        "!pip install pytesseract \n",
        "!pip install pdf2image\n",
        "!apt-get install poppler-utils \n",
        "#!pip install poppler-utils\n",
        "!sudo apt install tesseract-ocr"
      ],
      "execution_count": null,
      "outputs": [
        {
          "output_type": "stream",
          "text": [
            "Collecting pytesseract\n",
            "  Downloading https://files.pythonhosted.org/packages/a0/e6/a4e9fc8a93c1318540e8de6d8d4beb5749b7960388a7c7f27799fc2dd016/pytesseract-0.3.7.tar.gz\n",
            "Requirement already satisfied: Pillow in /usr/local/lib/python3.7/dist-packages (from pytesseract) (7.1.2)\n",
            "Building wheels for collected packages: pytesseract\n",
            "  Building wheel for pytesseract (setup.py) ... \u001b[?25l\u001b[?25hdone\n",
            "  Created wheel for pytesseract: filename=pytesseract-0.3.7-py2.py3-none-any.whl size=13945 sha256=63cdc83bdcda1ef6fd10ec28c3f1eb317faf47ef93ac11769b8e3ce31a4d93e9\n",
            "  Stored in directory: /root/.cache/pip/wheels/81/20/7e/1dd0daad1575d5260916bb1e9781246430647adaef4b3ca3b3\n",
            "Successfully built pytesseract\n",
            "Installing collected packages: pytesseract\n",
            "Successfully installed pytesseract-0.3.7\n",
            "Collecting pdf2image\n",
            "  Downloading https://files.pythonhosted.org/packages/7a/17/debc231f9bdb499e93389bb8679c7091ee9e4993dd92ed2da18aa896e2b6/pdf2image-1.15.1-py3-none-any.whl\n",
            "Requirement already satisfied: pillow in /usr/local/lib/python3.7/dist-packages (from pdf2image) (7.1.2)\n",
            "Installing collected packages: pdf2image\n",
            "Successfully installed pdf2image-1.15.1\n",
            "Reading package lists... Done\n",
            "Building dependency tree       \n",
            "Reading state information... Done\n",
            "The following package was automatically installed and is no longer required:\n",
            "  libnvidia-common-460\n",
            "Use 'apt autoremove' to remove it.\n",
            "The following NEW packages will be installed:\n",
            "  poppler-utils\n",
            "0 upgraded, 1 newly installed, 0 to remove and 34 not upgraded.\n",
            "Need to get 154 kB of archives.\n",
            "After this operation, 613 kB of additional disk space will be used.\n",
            "Get:1 http://archive.ubuntu.com/ubuntu bionic-updates/main amd64 poppler-utils amd64 0.62.0-2ubuntu2.12 [154 kB]\n",
            "Fetched 154 kB in 1s (280 kB/s)\n",
            "Selecting previously unselected package poppler-utils.\n",
            "(Reading database ... 160706 files and directories currently installed.)\n",
            "Preparing to unpack .../poppler-utils_0.62.0-2ubuntu2.12_amd64.deb ...\n",
            "Unpacking poppler-utils (0.62.0-2ubuntu2.12) ...\n",
            "Setting up poppler-utils (0.62.0-2ubuntu2.12) ...\n",
            "Processing triggers for man-db (2.8.3-2ubuntu0.1) ...\n",
            "Reading package lists... Done\n",
            "Building dependency tree       \n",
            "Reading state information... Done\n",
            "The following package was automatically installed and is no longer required:\n",
            "  libnvidia-common-460\n",
            "Use 'sudo apt autoremove' to remove it.\n",
            "The following additional packages will be installed:\n",
            "  tesseract-ocr-eng tesseract-ocr-osd\n",
            "The following NEW packages will be installed:\n",
            "  tesseract-ocr tesseract-ocr-eng tesseract-ocr-osd\n",
            "0 upgraded, 3 newly installed, 0 to remove and 34 not upgraded.\n",
            "Need to get 4,795 kB of archives.\n",
            "After this operation, 15.8 MB of additional disk space will be used.\n",
            "Get:1 http://archive.ubuntu.com/ubuntu bionic/universe amd64 tesseract-ocr-eng all 4.00~git24-0e00fe6-1.2 [1,588 kB]\n",
            "Get:2 http://archive.ubuntu.com/ubuntu bionic/universe amd64 tesseract-ocr-osd all 4.00~git24-0e00fe6-1.2 [2,989 kB]\n",
            "Get:3 http://archive.ubuntu.com/ubuntu bionic/universe amd64 tesseract-ocr amd64 4.00~git2288-10f4998a-2 [218 kB]\n",
            "Fetched 4,795 kB in 1s (4,129 kB/s)\n",
            "debconf: unable to initialize frontend: Dialog\n",
            "debconf: (No usable dialog-like program is installed, so the dialog based frontend cannot be used. at /usr/share/perl5/Debconf/FrontEnd/Dialog.pm line 76, <> line 3.)\n",
            "debconf: falling back to frontend: Readline\n",
            "debconf: unable to initialize frontend: Readline\n",
            "debconf: (This frontend requires a controlling tty.)\n",
            "debconf: falling back to frontend: Teletype\n",
            "dpkg-preconfigure: unable to re-open stdin: \n",
            "Selecting previously unselected package tesseract-ocr-eng.\n",
            "(Reading database ... 160734 files and directories currently installed.)\n",
            "Preparing to unpack .../tesseract-ocr-eng_4.00~git24-0e00fe6-1.2_all.deb ...\n",
            "Unpacking tesseract-ocr-eng (4.00~git24-0e00fe6-1.2) ...\n",
            "Selecting previously unselected package tesseract-ocr-osd.\n",
            "Preparing to unpack .../tesseract-ocr-osd_4.00~git24-0e00fe6-1.2_all.deb ...\n",
            "Unpacking tesseract-ocr-osd (4.00~git24-0e00fe6-1.2) ...\n",
            "Selecting previously unselected package tesseract-ocr.\n",
            "Preparing to unpack .../tesseract-ocr_4.00~git2288-10f4998a-2_amd64.deb ...\n",
            "Unpacking tesseract-ocr (4.00~git2288-10f4998a-2) ...\n",
            "Setting up tesseract-ocr-osd (4.00~git24-0e00fe6-1.2) ...\n",
            "Setting up tesseract-ocr-eng (4.00~git24-0e00fe6-1.2) ...\n",
            "Setting up tesseract-ocr (4.00~git2288-10f4998a-2) ...\n",
            "Processing triggers for man-db (2.8.3-2ubuntu0.1) ...\n"
          ],
          "name": "stdout"
        }
      ]
    },
    {
      "cell_type": "code",
      "metadata": {
        "colab": {
          "base_uri": "https://localhost:8080/"
        },
        "id": "7_VnMvZAEAP8",
        "outputId": "4374dda1-d67b-42aa-9681-801c8bf6ff96"
      },
      "source": [
        "!pip install networkx"
      ],
      "execution_count": null,
      "outputs": [
        {
          "output_type": "stream",
          "text": [
            "Requirement already satisfied: networkx in /usr/local/lib/python3.7/dist-packages (2.5.1)\n",
            "Requirement already satisfied: decorator<5,>=4.3 in /usr/local/lib/python3.7/dist-packages (from networkx) (4.4.2)\n"
          ],
          "name": "stdout"
        }
      ]
    },
    {
      "cell_type": "markdown",
      "metadata": {
        "id": "RPFPQfeC7ILy"
      },
      "source": [
        "# Summarization"
      ]
    },
    {
      "cell_type": "code",
      "metadata": {
        "colab": {
          "base_uri": "https://localhost:8080/"
        },
        "id": "lVrw8GwrEU-Z",
        "outputId": "e5e88635-a3bd-431d-ba3a-c2c1da1fdcd7"
      },
      "source": [
        "import numpy as np\n",
        "import pandas as pd\n",
        "import nltk\n",
        "import networkx as nx\n",
        "nltk.download('punkt') # one time execution\n",
        "nltk.download('stopwords')\n",
        "import re\n",
        "\n",
        "from PIL import Image \n",
        "import pytesseract \n",
        "import sys \n",
        "from pdf2image import convert_from_path \n",
        "import os \n",
        "\n",
        "from nltk.corpus import stopwords\n",
        "stop_words = stopwords.words('english')\n",
        "from sklearn.metrics.pairwise import cosine_similarity"
      ],
      "execution_count": null,
      "outputs": [
        {
          "output_type": "stream",
          "text": [
            "[nltk_data] Downloading package punkt to /root/nltk_data...\n",
            "[nltk_data]   Unzipping tokenizers/punkt.zip.\n",
            "[nltk_data] Downloading package stopwords to /root/nltk_data...\n",
            "[nltk_data]   Unzipping corpora/stopwords.zip.\n"
          ],
          "name": "stdout"
        }
      ]
    },
    {
      "cell_type": "code",
      "metadata": {
        "id": "CEh24cZFEnNA"
      },
      "source": [
        "def convert_to_string(path_of_file):\n",
        "  pages = convert_from_path(path_of_file) \n",
        "  rawText = \"\"\n",
        "\n",
        "  for page in pages:\n",
        "    text = str(((pytesseract.image_to_string(page))))\n",
        "    text = text.replace('-\\n', '')\n",
        "    rawText += text\n",
        "\n",
        "  with open(\"output.txt\", \"w\") as f:\n",
        "    f.write(rawText)\n",
        "\n",
        "  return rawText\n"
      ],
      "execution_count": null,
      "outputs": []
    },
    {
      "cell_type": "code",
      "metadata": {
        "id": "kXTnvwT8I6Yq"
      },
      "source": [
        "def remove_stopwords(sen):\n",
        "    sen_new = \" \".join([i for i in sen if i not in stop_words])\n",
        "    return sen_new"
      ],
      "execution_count": null,
      "outputs": []
    },
    {
      "cell_type": "code",
      "metadata": {
        "id": "Hmb4muMgHEAA"
      },
      "source": [
        "def preprocessing(pdf_file):\n",
        "  rawList = pdf_file.splitlines()\n",
        "  rawList = [item for item in rawList if item.strip()]\n",
        "  rawList_str = ' '.join(rawList)\n",
        "\n",
        "  from nltk.tokenize import sent_tokenize\n",
        "  sentences = []\n",
        "  for s in rawList_str.splitlines():\n",
        "    sentences.append(sent_tokenize(s))\n",
        "\n",
        "  sentences = [y for x in sentences for y in x]\n",
        "\n",
        "  clean_sentences = pd.Series(sentences).str.replace(\"[^a-zA-Z]\", \" \")\n",
        "\n",
        "  # make alphabets lowercase\n",
        "  clean_sentences = [s.lower() for s in clean_sentences]\n",
        "\n",
        "  clean_sentences = [remove_stopwords(r.split()) for r in clean_sentences]\n",
        "  #print(clean_sentences)\n",
        "\n",
        "  return clean_sentences, sentences"
      ],
      "execution_count": null,
      "outputs": []
    },
    {
      "cell_type": "code",
      "metadata": {
        "id": "T-CZHbeZJBJd"
      },
      "source": [
        "def compute_vectors(sentences):\n",
        "\n",
        "  word_embeddings = {}\n",
        "  f = open('/content/drive/MyDrive/glove.6B.100d.txt', encoding='utf-8')\n",
        "  for line in f:\n",
        "    values = line.split()\n",
        "    word = values[0]\n",
        "    coefs = np.asarray(values[1:], dtype='float32')\n",
        "    word_embeddings[word] = coefs\n",
        "  f.close()\n",
        "\n",
        "  sentence_vectors = []\n",
        "  for i in sentences:\n",
        "    if len(i) != 0:\n",
        "      v = sum([word_embeddings.get(w, np.zeros((100,))) for w in i.split()])/(len(i.split())+0.001)\n",
        "    else:\n",
        "      v = np.zeros((100,))\n",
        "    sentence_vectors.append(v)\n",
        "\n",
        "  return sentence_vectors"
      ],
      "execution_count": null,
      "outputs": []
    },
    {
      "cell_type": "code",
      "metadata": {
        "id": "0VrQQZPXKyOe"
      },
      "source": [
        "def textrank(path_to_file):\n",
        "\n",
        "  doc_string = convert_to_string(path_to_file)\n",
        "\n",
        "  clean_sentences, sentences = preprocessing(doc_string)\n",
        "\n",
        "  sentence_vectors = compute_vectors(clean_sentences)\n",
        "\n",
        "  sim_mat = np.zeros([len(sentences), len(sentences)])\n",
        "  for i in range(len(sentences)):\n",
        "    for j in range(len(sentences)):\n",
        "      if i != j:\n",
        "        sim_mat[i][j] = cosine_similarity(sentence_vectors[i].reshape(1,100), sentence_vectors[j].reshape(1,100))[0,0]\n",
        "\n",
        "  nx_graph = nx.from_numpy_array(sim_mat)\n",
        "  scores = nx.pagerank(nx_graph)\n",
        "\n",
        "  ranked_sentences = sorted(((scores[i],s) for i,s in enumerate(sentences)), reverse=True)\n",
        "\n",
        "  return ranked_sentences\n"
      ],
      "execution_count": null,
      "outputs": []
    },
    {
      "cell_type": "code",
      "metadata": {
        "colab": {
          "base_uri": "https://localhost:8080/"
        },
        "id": "1hzBKZkoMRn0",
        "outputId": "54473f2f-4d30-4bf5-8d25-be47e2b0e0e0"
      },
      "source": [
        "days = input(\"Number of sentences in the summary: \")\n",
        "file_path = input(\"Enter the path of the file\")\n",
        "\n",
        "ranked_sentences = textrank(file_path)\n",
        "for i in range(int(days)):\n",
        "  print(ranked_sentences[i][1])"
      ],
      "execution_count": null,
      "outputs": [
        {
          "output_type": "stream",
          "text": [
            "Number of sentences in the summary: 10\n",
            "Enter the path of the file/content/drive/MyDrive/2021-02-08_104743.pdf\n"
          ],
          "name": "stdout"
        },
        {
          "output_type": "stream",
          "text": [
            "/usr/local/lib/python3.7/dist-packages/PIL/Image.py:2800: DecompressionBombWarning: Image size (150876400 pixels) exceeds limit of 89478485 pixels, could be decompression bomb DOS attack.\n",
            "  DecompressionBombWarning,\n"
          ],
          "name": "stderr"
        },
        {
          "output_type": "stream",
          "text": [
            "To maximize absorption and clinical benefit, Idrofos” 150 should be taken after an overnight fast (atleast 6 hours) and at least 60 minutes before the first food or drink (other than water) of the day or before taking any oral medication or supplementation, including calcium, antacids, or vitamins.\n",
            "The observed apparent terminal half-life for the 150 mg ibandronic acid tablet upon oral administration to healthy postmenopausal women ranges from 37 to 157 hours.\n",
            "Since ibandronic acid is not known to be metabolised, the only difference in ibandronic acid elimination for geriatric patients versus younger patients is expected to relate to progressive age related changes in renal function.\n",
            "However, voth bioavailability and the effect on bone mineral density (BMD) are reduced when food or beverages are taken less than 60 minutes following an ibandronic acid dose.\n",
            "Two patients who received ibandronic acid monthly experienced ocular inflammation, one was a case of uveitis and the other scleritis.\n",
            "Patients should fast overnight (at least 6 hours) before taking ibandronic acid and continue fasting for 1 hour following intake of ibandronic acid.\n",
            "The patient must not take two 150 mg tablets within the same week.\n",
            "In humans, the apparent terminal volume of distribution is at least 90 L, and the amount of dose removed from the circulation via the bone is estimated to be 40% to 50% of the circulating dose.\n",
            "The observed apparent terminal half-life for ibandronic acid is generally dependent on the dose studied and on assay sensitivity.\n",
            "Its renal clearance and distribution into bone accounts for a rapid and early decline in plasma concentrations, reaching 10% of the Cmax within 3 or § hours after intravenous or oral administration, respectively.\n"
          ],
          "name": "stdout"
        }
      ]
    },
    {
      "cell_type": "markdown",
      "metadata": {
        "id": "TVOSrg1_UJKV"
      },
      "source": [
        "# POS Tagging (Syntax analysis)"
      ]
    },
    {
      "cell_type": "code",
      "metadata": {
        "colab": {
          "base_uri": "https://localhost:8080/"
        },
        "id": "RjtHYYrZNCVM",
        "outputId": "55a1e9e3-eef4-483d-e934-039404e70bd9"
      },
      "source": [
        "doc_string = convert_to_string(\"/content/drive/MyDrive/2021-02-08_104743.pdf\")\n",
        "clean_doc, sentences = preprocessing(doc_string)"
      ],
      "execution_count": null,
      "outputs": [
        {
          "output_type": "stream",
          "text": [
            "/usr/local/lib/python3.7/dist-packages/PIL/Image.py:2800: DecompressionBombWarning: Image size (150876400 pixels) exceeds limit of 89478485 pixels, could be decompression bomb DOS attack.\n",
            "  DecompressionBombWarning,\n"
          ],
          "name": "stderr"
        }
      ]
    },
    {
      "cell_type": "code",
      "metadata": {
        "colab": {
          "base_uri": "https://localhost:8080/"
        },
        "id": "SRuasm-SX0xC",
        "outputId": "e2d2ec22-9a0a-4374-dc35-6cad780b52df"
      },
      "source": [
        "clean_doc"
      ],
      "execution_count": null,
      "outputs": [
        {
          "output_type": "execute_result",
          "data": {
            "text/plain": [
              "['use registered medical practitioner hospital laboratory',\n",
              " 'prescribing information inandronic acid tablets idrofos dosage form tablets composition film coated tablet contains lbandronic acid monosodium monohydrate equivalentto ibandronic acid mg excipients clinical pharmacology lbandronic acid anitrogen containing bisphosphonate inhibits osteoclast mediated bone resorption',\n",
              " 'mechanism action action ibandronic acid bone tissue based affinity hydroxyapatite part mineral matrix bone',\n",
              " 'ibandronic acid inhibits osteoclast activity reduces bone resorption turnover',\n",
              " 'post menopausal women reduces elevated rate bone turnover leading average net gain bone mass',\n",
              " 'pharmacokinetics absorption oral ibandronic acid occurs upper gastrointestinal tract',\n",
              " 'plasma concentrations increase ina dose linear manner mg oral intake increases nonlinearly dose',\n",
              " 'following oral dosing time maximum observed plasma ibandronic acid concentrations ranged hours median hour fasted healthy postmenopausal women',\n",
              " 'oral bioavailability ibandronic acid reduced administered concomitantly standard breakfast comparison bioavailability observed fasted subjects',\n",
              " 'meaningful reduction bioavailability ibandronic acid taken least minutes meal',\n",
              " 'however voth bioavailability effect bone mineral density bmd reduced food beverages taken less minutes following ibandronic acid dose',\n",
              " 'absorption ibandronic acid either rapidly binds bone excreted urine',\n",
              " 'humans apparent terminal volume distribution least l amount dose removed circulation via bone estimated circulating dose',\n",
              " 'vitro protein binding human serum ibandronic acid concentration range ng ml one study approximately concentration range ng ml another study',\n",
              " 'evidence ibandronic acid metabolised humans',\n",
              " 'portion ibandronic acid removed circulation via bone absorption eliminated unchanged kidney approximately absorbed dose',\n",
              " 'unabsorbed ibandronic acid eliminated unchanged feces',\n",
              " 'plasma elimination ibandronic acid multiphasic',\n",
              " 'renal clearance distribution bone accounts rapid early decline plasma concentrations reaching cmax within hours intravenous oral administration respectively',\n",
              " 'followed slower clearance phase bandronic acid redistributes back blood bone',\n",
              " 'observed apparent terminal half life ibandronic acid generally dependent dose studied assay sensitivity',\n",
              " 'observed apparent terminal half life mg ibandronic acid tablet upon oral administration healthy postmenopausal women ranges hours',\n",
              " 'total clearance ibandronic acid low average values range ml min',\n",
              " 'renal clearance ml min healthy postmenopausal females accounts total clearance related creatinine clearance',\n",
              " 'difference apparent total renal clearances likely reflects bone uptake drug',\n",
              " 'pharmacokinetics ibandronic acid studied patients years age',\n",
              " 'since ibandronic acid known metabolised difference ibandronic acid elimination geriatric patients versus younger patients expected relate progressive age related changes renal function',\n",
              " 'renal clearance ibandronic acid patients various degrees renal impairment linearly related creatinine clearance clcr',\n",
              " 'following single dose mg ibandronic acid intravenous administration patients clcr ml min higher exposure auc exposure observed subjects cler ml min',\n",
              " 'patients cler ml min two fold increase exposure compared exposure healthy subjects',\n",
              " 'studies performed assess oharmacokinetics ibandronic acid patients hepatic impairment since ibandronic acid metabolised human liver',\n",
              " 'indications idrofos indicated treatment prevention osteoporosis postmenopausal women',\n",
              " 'contra indications e knownhypersensitivity ibandronic acid excipients',\n",
              " 'e uncorrected hypocalcemia',\n",
              " 'e nability stand sit upright least minutes',\n",
              " 'lalarninase precautions',\n",
              " 'hypocalcemia disturbances bone mineral metabolism effectively treated starting ibandronic acid therapy',\n",
              " 'adequate intake calcium vitamin importantin patients',\n",
              " 'osteonecrosis primarily jaw reported patients treated bisphosphonates',\n",
              " 'cases cancer patients undergoing dental procedures occurred patients postmenopausal osteoporosis diagnoses',\n",
              " 'known risk factors osteonecrosis include diagnosis cancer concomitant therapies e g chemotherapy radiotherapy corticosteroids co morbid disorders e g anemia coagulopathy infection pre existing dental disease',\n",
              " 'reported cases patients treated bisphosphonates intravenously patients treated orally',\n",
              " 'patients develop osteonecrosis jaw onj bisphosphonate therapy dental surgery may exacerbate condition',\n",
              " 'postmarketing experience severe occasionally incapacitating bone joint muscle pain reported patients taking bisphosphonates approved prevention treatment osteoporosis',\n",
              " 'however reports infrequent',\n",
              " 'category drugs include ibandronic acid tablets',\n",
              " 'patients postmenopausal women',\n",
              " 'time onset symptoms varied one day several months starting drug',\n",
              " 'patients relief symptoms stopping',\n",
              " 'subset recurrence symptoms rechallenged drug another bisphosphonate',\n",
              " 'bisphosphonates known interfere use bone imaging agents',\n",
              " 'specific studies ibandronic acid performed',\n",
              " 'physicians alert signs symptoms signaling possible esophageal reaction therapy patients instructed discontinue ibandronic acid seek medical attention develop symptoms esophageal irritation new worsening dysphagia pain swallowing retrosternal pain heartburn',\n",
              " 'ibandronic acid recommended patients creatinine clearance ml min',\n",
              " 'pregnancy lactation adequate well controlled studies pregnant women',\n",
              " 'lbandronic acid used pregnancy potential benefit justifies potential risk mother fetus',\n",
              " 'tis known whether ibandronic acid excreted human milk',\n",
              " 'many drugs excreted human milk caution exercised ibandronic acidis administered nursing woman',\n",
              " 'drug interactions pharmacokinetic interaction study healthy volunteers demonstrated mg ranitidine mg injected intravenously minutes minutes ibandronic acid administration increased oral bioavailability mg ibandronic acid',\n",
              " 'degree increase considered clinically relevant',\n",
              " 'pharmacokinetic interaction studies postmenopausal women demonstrated absence interaction potential tamoxifen hormone replacement therapy estrogen',\n",
              " 'interaction observed coadministered melphalan prednisolone patients multiple myeloma',\n",
              " 'products containing calcium multivalent cations aluminium magnesium iron including milk likely interfere absorption thandronic acid',\n",
              " 'ibandronic acid taken least minutes oral medications containing multivalent cations including antacids supplements vitamins',\n",
              " 'patients fast overnight least hours taking ibandronic acid continue fasting hour following intake ibandronic acid',\n",
              " 'since aspirin nsaids bisphosphonates associated gastrointestinal irritation caution exercised concomitant use aspirin nsaids ibandronic acid',\n",
              " 'side effects commonly reported adverse effects back pain pain extremity infection asthenia allergic reaction dyspepsia diarrhea tooth disorder vomiting gastritis hypercholesteralemia myalgia joint disorder arthritis headache hypertension dizziness vertigo nerve root lesion muscle cramp upper respiratory infection bronchitis pneumonia pharyngitis urinary tract infection nausea constipation abdominal pain arthralgia localised osteoarthritis influenza nasopharyngitis influenza like illness rash insomnia fatigue flatulence gastroesophageal reflux disease musculoskeletal pain fever chills loss appetite bone pain',\n",
              " 'reports medical literature indicate bisphosphonates may associated ocular inflammation uveitis scleritis',\n",
              " 'cases events resolve bisphosphonate discontinued',\n",
              " 'two patients received ibandronic acid monthly experienced ocular inflammation one case uveitis scleritis',\n",
              " 'overdosage specific information available treatment overdosage idrofos',\n",
              " 'however based knowledge class compounds oral overdosage may result hypocalcemia hypophosphatemia upper gastrointestinal adverse events upsel stomach dyspepsia esophagitis gastritis ulcer',\n",
              " 'milk antacids given bind ibandronic acid',\n",
              " 'due risk esophageal irritation vomiting induced patient remain fully upright',\n",
              " 'dialysis would beneficial',\n",
              " 'dosage administration recommended dose one ldrofos tablettaken monthly onthe date month',\n",
              " 'maximize absorption clinical benefit idrofos taken overnight fast atleast hours least minutes first food drink water day taking oral medication supplementation including calcium antacids vitamins',\n",
              " 'nl levtbadiann ieluntan rm tnhlate plain water drink taken idrofos',\n",
              " 'noted mineral waters may higher concentration calcium therefore used',\n",
              " 'patients chew suck tablet potential oropharyngeal ulceration',\n",
              " 'idrofos tablet taken date month',\n",
              " 'ifthe monthly dose missed patient next scheduled idrofos day days away patient instructed take one idrofos tablet morning following date remembered',\n",
              " 'patient return taking one idrofes tablet every month morning chosen day according original schedule',\n",
              " 'patient must take two mg tablets within week',\n",
              " 'patient next scheduled idrofos day days away patient must wait next scheduled idrofos day take tablet',\n",
              " 'patient return taking one idrofos every month morning chosen day according original schedule',\n",
              " 'patients receive supplemental calcium vitamin dietary intake inadequate',\n",
              " 'elderly',\n",
              " 'dosage adjustmentis necessary elderly',\n",
              " 'pediatric use safety effectiveness pediatric patients established',\n",
              " 'hepatic impairment dose adjustments necessary',\n",
              " 'renal impairment dose adjustment necessary patients mild moderate renal impairment creatinine clearance equal greater ml min',\n",
              " 'idrofos recommended use patients severe renal impairment creatinine clearance ml min',\n",
              " 'incompatibilities applicable',\n",
              " 'storage handling store room temperature protected light moisture',\n",
              " 'keep reach children',\n",
              " 'expiry date refer product label expiry date',\n",
              " 'notuse expiry date',\n",
              " 'presentation idrofos tablets available strips tablets',\n",
              " 'instructions patients take idrofos tablet month',\n",
              " 'choose one date month easy remember take ldrofos tablet date every month',\n",
              " 'take idrofos first thing morning empty stomach atleast hour minutes eat drink anything plain water take oral medicine',\n",
              " '',\n",
              " 'swallow idrofos full glass plain water',\n",
              " 'take idrofos drinks mineral water sparkling water coffee tea dairy drinks milk juice',\n",
              " 'take idrofos tablet whole',\n",
              " 'chew suck tablet keep itin mouth melt dissolve',\n",
              " 'foratleast hour minutes taken idrofos tablet tlie',\n",
              " 'may sit stand normal activities like read newspaper take walk',\n",
              " 'e pon teator drink anything except plain water',\n",
              " 'e take oral medicines including vitamins calcium antacids',\n",
              " 'take vitamins calcium antacids ata different time day time take idrofos',\n",
              " '',\n",
              " 'take much idrofos drink full glass milk consult doctor right away',\n",
              " 'make vomit',\n",
              " 'notlie',\n",
              " '',\n",
              " 'keep taking idrofos long doctor tells',\n",
              " 'doctor may tell exercise take calcium vitamin supplements help osteoporosis',\n",
              " 'forget dose',\n",
              " 'forget take tablet morning chosen day ttake tablet later day',\n",
              " 'instead follow instructions next scheduled dose days away missed dose less weeks late take one tablet next morning day remember',\n",
              " 'go back taking tablets chosen day every month according original schedule',\n",
              " 'lf next scheduled dose days away missed dose weeks late wait next scheduled dose due take normal',\n",
              " 'go back taking tablets chosen day every month according original schedule',\n",
              " 'never take two idrofos tablets within week',\n",
              " 'registered trade mark details please write co sun pharma acme plaza andheri kurla road oe andheri e mumbai india',\n",
              " 'ald']"
            ]
          },
          "metadata": {
            "tags": []
          },
          "execution_count": 14
        }
      ]
    },
    {
      "cell_type": "code",
      "metadata": {
        "id": "FkDsNac3WN39"
      },
      "source": [
        "import spacy\n",
        "nlp = spacy.load('en_core_web_sm')\n",
        "clean_doc = \". \".join(clean_doc) \n",
        "doc = nlp(clean_doc)"
      ],
      "execution_count": null,
      "outputs": []
    },
    {
      "cell_type": "code",
      "metadata": {
        "colab": {
          "base_uri": "https://localhost:8080/"
        },
        "id": "pQqqprxAWWhp",
        "outputId": "443cfbbe-c49e-40f8-e5f8-697a53684f74"
      },
      "source": [
        "from collections import Counter\n",
        "\n",
        "c = Counter(([token.pos_ for token in doc]))\n",
        "sbase = sum(c.values())\n",
        "for el, cnt in c.items():\n",
        "    print(el, '{0:2.2f}%'.format((100.0* cnt)/sbase))"
      ],
      "execution_count": null,
      "outputs": [
        {
          "output_type": "stream",
          "text": [
            "NOUN 38.01%\n",
            "VERB 17.28%\n",
            "PROPN 15.08%\n",
            "PUNCT 8.44%\n",
            "ADJ 14.88%\n",
            "ADP 0.80%\n",
            "ADV 3.06%\n",
            "CCONJ 0.07%\n",
            "X 0.27%\n",
            "NUM 0.86%\n",
            "DET 0.53%\n",
            "SCONJ 0.53%\n",
            "PRON 0.13%\n",
            "INTJ 0.07%\n"
          ],
          "name": "stdout"
        }
      ]
    },
    {
      "cell_type": "code",
      "metadata": {
        "id": "duxMVjY9api7"
      },
      "source": [
        "\n",
        "#raw_sentences = \". \".join(doc_string) \n",
        "raw_doc = nlp(doc_string)"
      ],
      "execution_count": null,
      "outputs": []
    },
    {
      "cell_type": "code",
      "metadata": {
        "colab": {
          "base_uri": "https://localhost:8080/"
        },
        "id": "xGKmFRVwZDSL",
        "outputId": "cb42ad15-a516-4b49-e822-b60b589e8c34"
      },
      "source": [
        "import random\n",
        "import os\n",
        "from pathlib import Path\n",
        "from spacy import displacy\n",
        "num = random.randint(0,100)\n",
        "print(num)\n",
        "for i,sent in enumerate(raw_doc.sents):\n",
        "  if i == num:\n",
        "    print(sent)\n",
        "    svg = displacy.render(sent, style=\"dep\", jupyter= False, minify = True)\n",
        "    output_path = Path(os.path.join(\"./\", \"sentence.svg\"))\n",
        "    output_path.open('w', encoding=\"utf-8\").write(svg)\n",
        "    break"
      ],
      "execution_count": null,
      "outputs": [
        {
          "output_type": "stream",
          "text": [
            "60\n",
            "For patients who develop osteonecrosis of the jaw (ONJ) while on bisphosphonate therapy, dental surgery may\n",
            "exacerbate the condition.\n",
            "\n",
            "\n"
          ],
          "name": "stdout"
        }
      ]
    },
    {
      "cell_type": "code",
      "metadata": {
        "id": "sB7JWeNgZns2"
      },
      "source": [
        "words = [token.text\n",
        "         for token in doc\n",
        "         if not token.is_stop and not token.is_punct]"
      ],
      "execution_count": null,
      "outputs": []
    },
    {
      "cell_type": "code",
      "metadata": {
        "id": "fE0y4QDdboqa"
      },
      "source": [
        "word_freq = Counter(words)\n",
        "common_words = word_freq.most_common(8)"
      ],
      "execution_count": null,
      "outputs": []
    },
    {
      "cell_type": "code",
      "metadata": {
        "id": "CROE7UX1bppF",
        "colab": {
          "base_uri": "https://localhost:8080/"
        },
        "outputId": "b2a4a8c8-cace-4bd0-dd22-9af767184490"
      },
      "source": [
        "common_word_list = [i[0] for i in common_words]\n",
        "common_word_list"
      ],
      "execution_count": null,
      "outputs": [
        {
          "output_type": "execute_result",
          "data": {
            "text/plain": [
              "['acid', 'ibandronic', 'patients', 'idrofos', 'dose', 'bone', 'tablet', 'day']"
            ]
          },
          "metadata": {
            "tags": []
          },
          "execution_count": 21
        }
      ]
    },
    {
      "cell_type": "markdown",
      "metadata": {
        "id": "ZitFHJkdiCKJ"
      },
      "source": [
        "\n",
        "\n",
        "# WORDNET (Semantic Analysis)\n"
      ]
    },
    {
      "cell_type": "code",
      "metadata": {
        "id": "ge7lqjQDbq6Q",
        "colab": {
          "base_uri": "https://localhost:8080/"
        },
        "outputId": "0c21c9f1-1c74-4724-a308-fc348dbcabe6"
      },
      "source": [
        "nltk.download('wordnet')\n",
        "from nltk.corpus import wordnet as wn"
      ],
      "execution_count": null,
      "outputs": [
        {
          "output_type": "stream",
          "text": [
            "[nltk_data] Downloading package wordnet to /root/nltk_data...\n",
            "[nltk_data]   Package wordnet is already up-to-date!\n"
          ],
          "name": "stdout"
        }
      ]
    },
    {
      "cell_type": "code",
      "metadata": {
        "id": "sEqdul6jiG68"
      },
      "source": [
        "syns = wn.synsets('acid')\n",
        "syns2 = wn.synsets('patients')"
      ],
      "execution_count": null,
      "outputs": []
    },
    {
      "cell_type": "code",
      "metadata": {
        "colab": {
          "base_uri": "https://localhost:8080/"
        },
        "id": "uV__ayWQjz4c",
        "outputId": "3665d435-3457-466e-fff9-c6ff223bcbde"
      },
      "source": [
        "for word in common_word_list:\n",
        "  syns = wn.synsets(word)\n",
        "  for i in syns:\n",
        "    print(i.lemmas()[0].name() + \" (\"+ i.name() + \") :\")\n",
        "    #x = wn.synset(i)\n",
        "    print(\"Definition: \" + i.definition())\n",
        "    if len(i.examples()) > 0:\n",
        "      print(\"Example: \" + i.examples()[0])\n",
        "    print(f\"Lemmas: {[str(lemma.name()) for lemma in i.lemmas()]}\")\n",
        "    #print(f\"Synonyms: {[str(synonym.name()) for synonym in i.synonyms()]}\")\n",
        "    print(f\"Hypernyms: {[str(hypernym.name()) for hypernym in i.hypernyms()]}\")\n",
        "    print(f\"Hyponyms: {[str(hyponym.name()) for hyponym in i.hyponyms()]}\")\n",
        "    print(f\"Hyponyms: {[str(polysem.name()) for polysem in i.part_meronyms()]}\")\n",
        "    print()\n",
        "    print()"
      ],
      "execution_count": null,
      "outputs": [
        {
          "output_type": "stream",
          "text": [
            "acid (acid.n.01) :\n",
            "Definition: any of various water-soluble compounds having a sour taste and capable of turning litmus red and reacting with a base to form a salt\n",
            "Lemmas: ['acid']\n",
            "Hypernyms: ['compound.n.02']\n",
            "Hyponyms: ['alkapton.n.01', 'aminobenzoic_acid.n.01', 'aqua_regia.n.01', 'arsenic_acid.n.01', 'barbituric_acid.n.01', 'boric_acid.n.01', 'boric_acid.n.02', 'bromic_acid.n.01', 'carbamic_acid.n.01', 'carbolic_acid.n.01', 'carbonic_acid.n.01', 'carboxylic_acid.n.01', 'cerotic_acid.n.01', 'chloric_acid.n.01', 'chlorous_acid.n.01', 'chromic_acid.n.01', 'citric_acid.n.01', 'cyanamide.n.01', 'cyanic_acid.n.01', 'cyanuric_acid.n.01', 'dibasic_acid.n.01', 'dichromic_acid.n.01', 'ferricyanic_acid.n.01', 'ferrocyanic_acid.n.01', 'fluoroboric_acid.n.01', 'fluosilicic_acid.n.01', 'formic_acid.n.01', 'fulminic_acid.n.01', 'fumaric_acid.n.01', 'gallic_acid.n.01', 'gamma_acid.n.01', 'glyceric_acid.n.01', 'glycolic_acid.n.01', 'hydriodic_acid.n.01', 'hydrobromic_acid.n.01', 'hydrochloric_acid.n.01', 'hydrocyanic_acid.n.01', 'hydrofluoric_acid.n.01', 'hydrogen_chloride.n.01', 'hydroiodic_acid.n.01', 'hydroxy_acid.n.01', 'hypochlorous_acid.n.01', 'hyponitrous_acid.n.01', 'iodic_acid.n.01', 'isocyanic_acid.n.01', 'itaconic_acid.n.01', 'lansoprazole.n.01', 'lysergic_acid.n.01', 'maleic_acid.n.01', 'manganic_acid.n.01', 'methacrylic_acid.n.01', 'monobasic_acid.n.01', 'nitric_acid.n.01', 'nitrous_acid.n.01', 'oxalacetic_acid.n.01', 'oxalic_acid.n.01', 'oxyacid.n.01', 'pantothenic_acid.n.01', 'para_aminobenzoic_acid.n.01', 'pectic_acid.n.01', 'perchloric_acid.n.01', 'permanganic_acid.n.01', 'phthalic_acid.n.01', 'picric_acid.n.01', 'pyruvic_acid.n.01', 'selenic_acid.n.01', 'silicic_acid.n.01', 'sulfanilic_acid.n.01', 'sulfonic_acid.n.01', 'tetrabasic_acid.n.01', 'thiocyanic_acid.n.01', 'titanic_acid.n.01', 'toluic_acid.n.01', 'tribasic_acid.n.01', 'triphosphoric_acid.n.01', 'undecylenic_acid.n.01', 'uric_acid.n.01', 'vitriol.n.01', 'xanthic_acid.n.01']\n",
            "Hyponyms: []\n",
            "\n",
            "\n",
            "acid (acid.n.02) :\n",
            "Definition: street name for lysergic acid diethylamide\n",
            "Lemmas: ['acid', 'back_breaker', 'battery-acid', 'dose', 'dot', 'Elvis', 'loony_toons', 'Lucy_in_the_sky_with_diamonds', 'pane', 'superman', 'window_pane', 'Zen']\n",
            "Hypernyms: ['lysergic_acid_diethylamide.n.01']\n",
            "Hyponyms: []\n",
            "Hyponyms: []\n",
            "\n",
            "\n",
            "acerb (acerb.s.02) :\n",
            "Definition: harsh or corrosive in tone\n",
            "Example: an acerbic tone piercing otherwise flowery prose\n",
            "Lemmas: ['acerb', 'acerbic', 'acid', 'acrid', 'bitter', 'blistering', 'caustic', 'sulfurous', 'sulphurous', 'virulent', 'vitriolic']\n",
            "Hypernyms: []\n",
            "Hyponyms: []\n",
            "Hyponyms: []\n",
            "\n",
            "\n",
            "acidic (acidic.s.02) :\n",
            "Definition: being sour to the taste\n",
            "Lemmas: ['acidic', 'acid', 'acidulent', 'acidulous']\n",
            "Hypernyms: []\n",
            "Hyponyms: []\n",
            "Hyponyms: []\n",
            "\n",
            "\n",
            "acid (acid.s.03) :\n",
            "Definition: having the characteristics of an acid\n",
            "Example: an acid reaction\n",
            "Lemmas: ['acid']\n",
            "Hypernyms: []\n",
            "Hyponyms: []\n",
            "Hyponyms: []\n",
            "\n",
            "\n",
            "patient (patient.n.01) :\n",
            "Definition: a person who requires medical care\n",
            "Example: the number of emergency patients has grown rapidly\n",
            "Lemmas: ['patient']\n",
            "Hypernyms: ['case.n.06', 'sick_person.n.01']\n",
            "Hyponyms: ['alexic.n.01', 'analysand.n.01', 'arthritic.n.01', 'hypertensive.n.01', 'hypochondriac.n.01', 'hypotensive.n.01', 'index_case.n.01', 'inpatient.n.01', 'outpatient.n.01', 'vaccinee.n.01']\n",
            "Hyponyms: []\n",
            "\n",
            "\n",
            "affected_role (affected_role.n.01) :\n",
            "Definition: the semantic role of an entity that is not the agent but is directly involved in or affected by the happening denoted by the verb in the clause\n",
            "Lemmas: ['affected_role', 'patient_role', 'patient']\n",
            "Hypernyms: ['semantic_role.n.01']\n",
            "Hyponyms: []\n",
            "Hyponyms: []\n",
            "\n",
            "\n",
            "dose (dose.n.01) :\n",
            "Definition: a measured portion of medicine taken at any one time\n",
            "Lemmas: ['dose', 'dosage']\n",
            "Hypernyms: ['medicine.n.02']\n",
            "Hyponyms: ['booster.n.06', 'draft.n.08', 'hit.n.05', 'lethal_dose.n.01', 'pill.n.02']\n",
            "Hyponyms: []\n",
            "\n",
            "\n",
            "dose (dose.n.02) :\n",
            "Definition: the quantity of an active agent (substance or radiation) taken in or absorbed at any one time\n",
            "Lemmas: ['dose', 'dosage']\n",
            "Hypernyms: ['indefinite_quantity.n.01']\n",
            "Hyponyms: []\n",
            "Hyponyms: []\n",
            "\n",
            "\n",
            "venereal_disease (venereal_disease.n.01) :\n",
            "Definition: a communicable infection transmitted by sexual intercourse or genital contact\n",
            "Lemmas: ['venereal_disease', 'VD', 'venereal_infection', 'social_disease', \"Cupid's_itch\", \"Cupid's_disease\", \"Venus's_curse\", 'dose', 'sexually_transmitted_disease', 'STD']\n",
            "Hypernyms: ['contagious_disease.n.01']\n",
            "Hyponyms: ['chlamydia.n.01', 'genital_herpes.n.01', 'gonorrhea.n.01', 'granuloma_inguinale.n.01', 'lymphogranuloma_venereum.n.01', 'syphilis.n.01']\n",
            "Hyponyms: []\n",
            "\n",
            "\n",
            "acid (acid.n.02) :\n",
            "Definition: street name for lysergic acid diethylamide\n",
            "Lemmas: ['acid', 'back_breaker', 'battery-acid', 'dose', 'dot', 'Elvis', 'loony_toons', 'Lucy_in_the_sky_with_diamonds', 'pane', 'superman', 'window_pane', 'Zen']\n",
            "Hypernyms: ['lysergic_acid_diethylamide.n.01']\n",
            "Hyponyms: []\n",
            "Hyponyms: []\n",
            "\n",
            "\n",
            "dose (dose.v.01) :\n",
            "Definition: treat with an agent; add (an agent) to\n",
            "Example: The ray dosed the paint\n",
            "Lemmas: ['dose']\n",
            "Hypernyms: ['process.v.01']\n",
            "Hyponyms: []\n",
            "Hyponyms: []\n",
            "\n",
            "\n",
            "drug (drug.v.01) :\n",
            "Definition: administer a drug to\n",
            "Example: They drugged the kidnapped tourist\n",
            "Lemmas: ['drug', 'dose']\n",
            "Hypernyms: ['medicate.v.02']\n",
            "Hyponyms: ['anesthetize.v.01', 'dope.v.03', 'narcotize.v.01', 'overdose.v.01', 'poison.v.05']\n",
            "Hyponyms: []\n",
            "\n",
            "\n",
            "bone (bone.n.01) :\n",
            "Definition: rigid connective tissue that makes up the skeleton of vertebrates\n",
            "Lemmas: ['bone', 'os']\n",
            "Hypernyms: ['connective_tissue.n.01']\n",
            "Hyponyms: ['anklebone.n.01', 'bare_bone.n.01', 'calvaria.n.01', 'cannon_bone.n.01', 'carpal_bone.n.01', 'cartilage_bone.n.01', 'centrum.n.01', 'cheekbone.n.01', 'clavicle.n.01', 'coccyx.n.01', 'cranium.n.01', 'cuboid_bone.n.01', 'dentine.n.02', 'ethmoid.n.01', 'fishbone.n.01', 'furcula.n.01', 'gladiolus.n.02', 'heelbone.n.01', 'hipbone.n.01', 'hyoid.n.01', 'ilium.n.02', 'ischium.n.01', 'jaw.n.01', 'lacrimal_bone.n.01', 'long_bone.n.01', 'manubrium.n.01', 'marrowbone.n.01', 'membrane_bone.n.01', 'metacarpal.n.01', 'metatarsal.n.01', 'modiolus.n.01', 'nasal.n.02', 'occiput.n.01', 'ossicle.n.01', 'palatine.n.04', 'pastern.n.01', 'phalanx.n.01', 'pubis.n.01', 'ramus.n.01', 'rib.n.02', 'round_bone.n.01', 'sacrum.n.01', 'scapula.n.01', 'sesamoid_bone.n.01', 'short_bone.n.01', 'sinciput.n.01', 'skull.n.01', 'sphenoid_bone.n.01', 'splint_bone.n.01', 'sternum.n.01', 'tarsal.n.01', 'temporal_bone.n.01', 'tooth.n.01', 'turbinate_bone.n.01', 'tympanic_bone.n.01', 'vertebra.n.01', 'vomer.n.01', 'wormian_bone.n.01', 'xiphoid_process.n.01', 'zygoma.n.01']\n",
            "Hyponyms: ['bone_cell.n.01', 'condyle.n.01', 'coronoid_process.n.01', 'lamella.n.02', 'marrow.n.01', 'matrix.n.04', 'socket.n.01']\n",
            "\n",
            "\n",
            "bone (bone.n.02) :\n",
            "Definition: the porous calcified substance from which bones are made\n",
            "Lemmas: ['bone', 'osseous_tissue']\n",
            "Hypernyms: ['animal_material.n.01']\n",
            "Hyponyms: []\n",
            "Hyponyms: []\n",
            "\n",
            "\n",
            "bone (bone.n.03) :\n",
            "Definition: a shade of white the color of bleached bones\n",
            "Lemmas: ['bone', 'ivory', 'pearl', 'off-white']\n",
            "Hypernyms: ['white.n.02']\n",
            "Hyponyms: []\n",
            "Hyponyms: []\n",
            "\n",
            "\n",
            "cram (cram.v.03) :\n",
            "Definition: study intensively, as before an exam\n",
            "Example: I had to bone up on my Latin verbs before the final exam\n",
            "Lemmas: ['cram', 'grind_away', 'drum', 'bone_up', 'swot', 'get_up', 'mug_up', 'swot_up', 'bone']\n",
            "Hypernyms: ['study.v.05']\n",
            "Hyponyms: []\n",
            "Hyponyms: []\n",
            "\n",
            "\n",
            "bone (bone.v.02) :\n",
            "Definition: remove the bones from\n",
            "Example: bone the turkey before roasting it\n",
            "Lemmas: ['bone', 'debone']\n",
            "Hypernyms: ['remove.v.01']\n",
            "Hyponyms: []\n",
            "Hyponyms: []\n",
            "\n",
            "\n",
            "bone (bone.s.01) :\n",
            "Definition: consisting of or made up of bone\n",
            "Example: a bony substance\n",
            "Lemmas: ['bone']\n",
            "Hypernyms: []\n",
            "Hyponyms: []\n",
            "Hyponyms: []\n",
            "\n",
            "\n",
            "tablet (tablet.n.01) :\n",
            "Definition: a slab of stone or wood suitable for bearing an inscription\n",
            "Lemmas: ['tablet']\n",
            "Hypernyms: ['slab.n.01']\n",
            "Hyponyms: ['abacus.n.01', 'slate.n.01']\n",
            "Hyponyms: []\n",
            "\n",
            "\n",
            "pad (pad.n.01) :\n",
            "Definition: a number of sheets of paper fastened together along one edge\n",
            "Lemmas: ['pad', 'pad_of_paper', 'tablet']\n",
            "Hypernyms: ['paper.n.01']\n",
            "Hyponyms: ['message_pad.n.01', 'notepad.n.01']\n",
            "Hyponyms: []\n",
            "\n",
            "\n",
            "tablet (tablet.n.03) :\n",
            "Definition: a small flat compressed cake of some substance\n",
            "Example: a tablet of soap\n",
            "Lemmas: ['tablet']\n",
            "Hypernyms: ['cake.n.01']\n",
            "Hyponyms: []\n",
            "Hyponyms: []\n",
            "\n",
            "\n",
            "pill (pill.n.02) :\n",
            "Definition: a dose of medicine in the form of a small pellet\n",
            "Lemmas: ['pill', 'lozenge', 'tablet', 'tab']\n",
            "Hypernyms: ['dose.n.01']\n",
            "Hyponyms: ['bolus.n.02', 'capsule.n.02', 'dragee.n.03', 'sleeping_pill.n.01']\n",
            "Hyponyms: []\n",
            "\n",
            "\n",
            "day (day.n.01) :\n",
            "Definition: time for Earth to make a complete rotation on its axis\n",
            "Example: two days later they left\n",
            "Lemmas: ['day', 'twenty-four_hours', 'twenty-four_hour_period', '24-hour_interval', 'solar_day', 'mean_solar_day']\n",
            "Hypernyms: ['time_unit.n.01']\n",
            "Hyponyms: ['date.n.01', 'date.n.07', 'eve.n.02', 'morrow.n.01', 'today.n.02', 'tomorrow.n.01', 'yesterday.n.01']\n",
            "Hyponyms: ['day.n.04', 'hour.n.01', 'night.n.01', 'noon.n.01']\n",
            "\n",
            "\n",
            "day (day.n.02) :\n",
            "Definition: some point or period in time\n",
            "Example: it should arrive any day now\n",
            "Lemmas: ['day']\n",
            "Hypernyms: ['time.n.03']\n",
            "Hyponyms: ['judgment_day.n.01', 'off-day.n.01']\n",
            "Hyponyms: []\n",
            "\n",
            "\n",
            "day (day.n.03) :\n",
            "Definition: a day assigned to a particular purpose or observance\n",
            "Example: Mother's Day\n",
            "Lemmas: ['day']\n",
            "Hypernyms: ['calendar_day.n.01']\n",
            "Hyponyms: ['admission_day.n.01', 'american_indian_day.n.01', 'anniversary.n.01', \"april_fools'.n.01\", 'arbor_day.n.01', 'armed_forces_day.n.01', 'cinco_de_mayo.n.01', 'citizenship_day.n.01', 'commencement_day.n.01', \"father's_day.n.01\", 'field_day.n.01', 'field_day.n.02', 'flag_day.n.01', 'groundhog_day.n.01', 'halloween.n.01', 'holiday.n.02', 'ides.n.01', 'inauguration_day.n.01', \"jefferson_davis'_birthday.n.01\", 'leap_day.n.01', \"lincoln's_birthday.n.01\", 'market_day.n.01', 'may_day.n.01', 'midsummer_eve.n.01', \"mother's_day.n.01\", \"new_year's_eve.n.01\", 'november_5.n.01', 'pan_american_day.n.01', \"patriot's_day.n.01\", 'payday.n.01', 'polling_day.n.01', 'rag_day.n.01', 'red-letter_day.n.01', \"robert_e_lee's_birthday.n.01\", \"saint's_day.n.01\", 'school_day.n.01', 'speech_day.n.01', \"st_patrick's_day.n.01\", 'tet.n.01', 'texas_independence_day.n.01', 'united_nations_day.n.01', 'v-day.n.01', 'valentine_day.n.01', 'walpurgis_night.n.01', 'washday.n.01', \"washington's_birthday.n.01\", 'wedding_day.n.01']\n",
            "Hyponyms: []\n",
            "\n",
            "\n",
            "day (day.n.04) :\n",
            "Definition: the time after sunrise and before sunset while it is light outside\n",
            "Example: the dawn turned night into day\n",
            "Lemmas: ['day', 'daytime', 'daylight']\n",
            "Hypernyms: ['time_period.n.01']\n",
            "Hyponyms: ['afternoon.n.01', 'evening.n.01', 'midafternoon.n.01']\n",
            "Hyponyms: ['morning.n.01']\n",
            "\n",
            "\n",
            "day (day.n.05) :\n",
            "Definition: the recurring hours when you are not sleeping (especially those when you are working)\n",
            "Example: my day began early this morning\n",
            "Lemmas: ['day']\n",
            "Hypernyms: ['work_time.n.01']\n",
            "Hyponyms: ['workday.n.02']\n",
            "Hyponyms: []\n",
            "\n",
            "\n",
            "day (day.n.06) :\n",
            "Definition: an era of existence or influence\n",
            "Example: in the day of the dinosaurs\n",
            "Lemmas: ['day']\n",
            "Hypernyms: ['era.n.01']\n",
            "Hyponyms: []\n",
            "Hyponyms: []\n",
            "\n",
            "\n",
            "day (day.n.07) :\n",
            "Definition: the period of time taken by a particular planet (e.g. Mars) to make a complete rotation on its axis\n",
            "Example: how long is a day on Jupiter?\n",
            "Lemmas: ['day']\n",
            "Hypernyms: ['time_period.n.01']\n",
            "Hyponyms: ['lunar_day.n.01']\n",
            "Hyponyms: []\n",
            "\n",
            "\n",
            "sidereal_day (sidereal_day.n.01) :\n",
            "Definition: the time for one complete rotation of the earth relative to a particular star, about 4 minutes shorter than a mean solar day\n",
            "Lemmas: ['sidereal_day', 'day']\n",
            "Hypernyms: ['sidereal_time.n.01', 'time_unit.n.01']\n",
            "Hyponyms: []\n",
            "Hyponyms: []\n",
            "\n",
            "\n",
            "day (day.n.09) :\n",
            "Definition: a period of opportunity\n",
            "Example: he deserves his day in court\n",
            "Lemmas: ['day']\n",
            "Hypernyms: ['opportunity.n.01']\n",
            "Hyponyms: []\n",
            "Hyponyms: []\n",
            "\n",
            "\n",
            "Day (day.n.10) :\n",
            "Definition: United States writer best known for his autobiographical works (1874-1935)\n",
            "Lemmas: ['Day', 'Clarence_Day', 'Clarence_Shepard_Day_Jr.']\n",
            "Hypernyms: []\n",
            "Hyponyms: []\n",
            "Hyponyms: []\n",
            "\n",
            "\n"
          ],
          "name": "stdout"
        }
      ]
    },
    {
      "cell_type": "code",
      "metadata": {
        "colab": {
          "base_uri": "https://localhost:8080/"
        },
        "id": "N0BScFI9jCus",
        "outputId": "a16a5206-e4fb-440a-ad3b-6441cbe71380"
      },
      "source": [
        "synonyms = []\n",
        "antonyms = []\n",
        "\n",
        "for syn in wn.synsets(\"acid\"):\n",
        "    for l in syn.lemmas():\n",
        "        synonyms.append(l.name())\n",
        "        if l.antonyms():\n",
        "            antonyms.append(l.antonyms()[0].name())\n",
        "\n",
        "print(set(synonyms))\n",
        "print(set(antonyms))"
      ],
      "execution_count": null,
      "outputs": [
        {
          "output_type": "stream",
          "text": [
            "{'dose', 'Zen', 'sulfurous', 'acidulent', 'battery-acid', 'caustic', 'Elvis', 'acidulous', 'acrid', 'blistering', 'superman', 'acid', 'bitter', 'vitriolic', 'pane', 'loony_toons', 'virulent', 'sulphurous', 'Lucy_in_the_sky_with_diamonds', 'acerb', 'back_breaker', 'dot', 'window_pane', 'acerbic', 'acidic'}\n",
            "set()\n"
          ],
          "name": "stdout"
        }
      ]
    },
    {
      "cell_type": "code",
      "metadata": {
        "id": "rkMZdssojNJU"
      },
      "source": [
        "w1 = wn.synset('acid.n.01')\n",
        "w2 = wn.synset('patient.n.01')\n",
        "print(w1.wup_similarity(w2))"
      ],
      "execution_count": null,
      "outputs": []
    },
    {
      "cell_type": "code",
      "metadata": {
        "id": "jrRsTI9TkSr3"
      },
      "source": [
        "from itertools import combinations"
      ],
      "execution_count": null,
      "outputs": []
    },
    {
      "cell_type": "code",
      "metadata": {
        "id": "aKK2a3ALdInO"
      },
      "source": [
        "word_comb = combinations(common_word_list,2)\n",
        "for i in word_comb:\n",
        "  print(i[0])"
      ],
      "execution_count": null,
      "outputs": []
    },
    {
      "cell_type": "code",
      "metadata": {
        "colab": {
          "base_uri": "https://localhost:8080/"
        },
        "id": "TNp0QiZoklVC",
        "outputId": "604baf8e-6b2b-41f7-f5ea-28c5a157311c"
      },
      "source": [
        "for i in combinations(common_word_list,2):\n",
        "  \n",
        "  a = wn.synsets(i[0])\n",
        "  b = wn.synsets(i[1])\n",
        "\n",
        "  if len(a)>0 and len(b)>0:\n",
        "    print(f\"Path similarity between {i[0]} and {i[1]} = {a[0].path_similarity(b[0])}\")\n",
        "  "
      ],
      "execution_count": null,
      "outputs": [
        {
          "output_type": "stream",
          "text": [
            "Path similarity between acid and patients = 0.09090909090909091\n",
            "Path similarity between acid and dose = 0.09090909090909091\n",
            "Path similarity between acid and bone = 0.07142857142857142\n",
            "Path similarity between acid and tablet = 0.07692307692307693\n",
            "Path similarity between acid and day = 0.09090909090909091\n",
            "Path similarity between patients and dose = 0.125\n",
            "Path similarity between patients and bone = 0.08333333333333333\n",
            "Path similarity between patients and tablet = 0.1\n",
            "Path similarity between patients and day = 0.1\n",
            "Path similarity between dose and bone = 0.07692307692307693\n",
            "Path similarity between dose and tablet = 0.08333333333333333\n",
            "Path similarity between dose and day = 0.09090909090909091\n",
            "Path similarity between bone and tablet = 0.07142857142857142\n",
            "Path similarity between bone and day = 0.07692307692307693\n",
            "Path similarity between tablet and day = 0.08333333333333333\n"
          ],
          "name": "stdout"
        }
      ]
    },
    {
      "cell_type": "code",
      "metadata": {
        "id": "VzBT6fVAmIbU"
      },
      "source": [
        ""
      ],
      "execution_count": null,
      "outputs": []
    }
  ]
}